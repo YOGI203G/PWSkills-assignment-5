{
 "cells": [
  {
   "cell_type": "code",
   "execution_count": 4,
   "id": "b909fd79-bba0-40cf-a838-0ec42951357c",
   "metadata": {},
   "outputs": [
    {
     "name": "stdout",
     "output_type": "stream",
     "text": [
      "[('virat kohli', 24936), ('jack kallis', 25534), ('ricky ponting', 27483), ('sachin tendulkar', 34357)]\n"
     ]
    }
   ],
   "source": [
    "#QUS1\n",
    "\n",
    "#CREATE A PYTHON PROGRAM TO SORT THE GIVEN LIST OF TUPLE BASED ON INTEGER VALUE USING A LEMBDA FUNCTION.\n",
    "\n",
    "l1=[('sachin tendulkar',34357), ('ricky ponting',27483), ('jack kallis',25534), ('virat kohli',24936)]\n",
    "l1.sort(key = lambda l1:l1[1])\n",
    "print(l1)"
   ]
  },
  {
   "cell_type": "code",
   "execution_count": 10,
   "id": "198487ee-cebc-4299-9a6d-96e230380e2e",
   "metadata": {},
   "outputs": [
    {
     "name": "stdout",
     "output_type": "stream",
     "text": [
      "[1, 4, 9, 16, 25, 36, 49, 64, 81, 100]\n"
     ]
    }
   ],
   "source": [
    "#QUS2\n",
    "\n",
    "#USING LAMBDA FUNCTION AND MAP FUNCTION FIND SQUARES OF NUMBER OF GIVEN IN LIST.\n",
    "\n",
    "l1=[1,2,3,4,5,6,7,8,9,10]\n",
    "print(list(map(lambda x:x**2,l1)))"
   ]
  },
  {
   "cell_type": "code",
   "execution_count": 6,
   "id": "05a687cf-408e-4541-b3ae-58114f22707a",
   "metadata": {},
   "outputs": [
    {
     "name": "stdout",
     "output_type": "stream",
     "text": [
      "('1', '2', '3', '4', '5', '6', '7', '8', '9', '10')\n"
     ]
    }
   ],
   "source": [
    "#QUS3\n",
    "\n",
    "l2=[1,2,3,4,5,6,7,8,9,10]\n",
    "print(tuple(map(lambda x:str(x),l2)))"
   ]
  },
  {
   "cell_type": "code",
   "execution_count": 14,
   "id": "72cd28c7-e2ea-4eec-84df-74066491f092",
   "metadata": {},
   "outputs": [
    {
     "name": "stdout",
     "output_type": "stream",
     "text": [
      "15511210043330985984000000\n"
     ]
    }
   ],
   "source": [
    "#QUS4\n",
    "\n",
    "# USING REDUSE FUNCTION TO COMPUTE THE PRODUCT OF LIST CONTATING THE NUMBER FROM 1 TO 25.\n",
    "\n",
    "from functools import reduce\n",
    "l3=[1,2,3,4,5,6,7,8,9,10,11,12,13,14,15,16,17,18,19,20,21,22,23,24,25]\n",
    "print(reduce(lambda x,y:x*y,l3))\n",
    "        \n",
    "        "
   ]
  },
  {
   "cell_type": "code",
   "execution_count": 17,
   "id": "e18889cf-2676-4453-a99f-63550e2b21c7",
   "metadata": {},
   "outputs": [
    {
     "name": "stdout",
     "output_type": "stream",
     "text": [
      "[6, 60, 90, 120]\n"
     ]
    }
   ],
   "source": [
    "#QUS5\n",
    "\n",
    "l4= [2, 3, 6, 9, 27, 60, 90, 120, 55, 46]\n",
    "print(list(filter(lambda x: x%2 == 0 and x%3 == 0 , l4)))"
   ]
  },
  {
   "cell_type": "code",
   "execution_count": 21,
   "id": "457fe5cf-555c-4acc-9363-63d57f337097",
   "metadata": {},
   "outputs": [
    {
     "name": "stdout",
     "output_type": "stream",
     "text": [
      "['php', 'aba', 'radar', 'level']\n"
     ]
    }
   ],
   "source": [
    "#QUS6\n",
    "\n",
    "l5=['python', 'php', 'aba', 'radar', 'level']\n",
    "print(list(filter(lambda x:x==x[::-1], l5)))"
   ]
  }
 ],
 "metadata": {
  "kernelspec": {
   "display_name": "Python 3 (ipykernel)",
   "language": "python",
   "name": "python3"
  },
  "language_info": {
   "codemirror_mode": {
    "name": "ipython",
    "version": 3
   },
   "file_extension": ".py",
   "mimetype": "text/x-python",
   "name": "python",
   "nbconvert_exporter": "python",
   "pygments_lexer": "ipython3",
   "version": "3.10.8"
  }
 },
 "nbformat": 4,
 "nbformat_minor": 5
}
